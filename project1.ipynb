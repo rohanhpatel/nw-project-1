{
 "cells": [
  {
   "cell_type": "code",
   "execution_count": null,
   "metadata": {},
   "outputs": [],
   "source": [
    "# Dependencies and Setup\n",
    "import matplotlib.pyplot as plt\n",
    "import pandas as pd\n",
    "import scipy.stats as st\n",
    "from pathlib import Path\n"
   ]
  },
  {
   "cell_type": "code",
   "execution_count": null,
   "metadata": {},
   "outputs": [],
   "source": [
    "# File to Load \n",
    "GDP_data_to_load = Path(\"data/GDP.csv\")\n",
    "particle_data_to_load = Path(\"data/part-con.csv\")\n",
    "lung_data_to_load = Path(\"data/dataset-cumulative-risk-in-percentage-inc-males-and-females-age-0-74-lung.csv\")\n",
    "melanoma_data_to_load = Path(\"data/dataset-cumulative-risk-in-percentage-inc-males-and-females-age-0-74-2000-2018-melanoma-of-skin.csv\")\n",
    "\n",
    "# Read Data Files and store into Pandas DataFrames\n",
    "GDP_data = pd.read_csv(GDP_data_to_load)\n",
    "particle_data = pd.read_csv(particle_data_to_load)\n",
    "lung_data = pd.read_csv(lung_data_to_load)\n",
    "melanoma_data = pd.read_csv(melanoma_data_to_load)\n",
    "\n",
    "# Combine the data into a single DataFrame\n",
    "\n"
   ]
  },
  {
   "cell_type": "code",
   "execution_count": null,
   "metadata": {},
   "outputs": [],
   "source": [
    "# Find the Countries that have data in all files (ex. US, Germany, Norway, etc.) and rank them from highest GDP to lower GDP?\n",
    "\n",
    "#create a bar chart\n"
   ]
  },
  {
   "cell_type": "code",
   "execution_count": null,
   "metadata": {},
   "outputs": [],
   "source": [
    "# find the countries with the highest polution indices\n",
    "\n",
    "#create a bar chart\n"
   ]
  },
  {
   "cell_type": "code",
   "execution_count": null,
   "metadata": {},
   "outputs": [],
   "source": [
    "# create a scatter plot with and GDP (Y) and pollution level (X)\n",
    "\n",
    "# run a regression line"
   ]
  },
  {
   "cell_type": "code",
   "execution_count": null,
   "metadata": {},
   "outputs": [],
   "source": [
    "# Find the number of lung cancer victims for our Countries sample\n",
    "\n",
    "# Creat a bar chart that reflects number lung cancer victims per country and their GDP and pollution level"
   ]
  },
  {
   "cell_type": "code",
   "execution_count": null,
   "metadata": {},
   "outputs": [],
   "source": [
    "# Find the number of melanoma cancer victims for our Countries sample\n",
    "\n",
    "# Creat a bar chart\n",
    "\n",
    "# Creat a bar chart that reflects number of melanoma victims per country and their GDP and pollution level\n"
   ]
  }
 ],
 "metadata": {
  "language_info": {
   "name": "python"
  },
  "orig_nbformat": 4
 },
 "nbformat": 4,
 "nbformat_minor": 2
}
